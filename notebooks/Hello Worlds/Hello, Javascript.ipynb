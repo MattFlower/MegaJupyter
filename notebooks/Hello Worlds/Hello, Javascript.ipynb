{
 "cells": [
  {
   "cell_type": "code",
   "execution_count": 1,
   "id": "05d5311d-340c-462c-a209-65d69a409b14",
   "metadata": {},
   "outputs": [
    {
     "name": "stdout",
     "output_type": "stream",
     "text": [
      "Hello, world!\n"
     ]
    }
   ],
   "source": [
    "console.log(\"Hello, world!\");"
   ]
  },
  {
   "cell_type": "code",
   "execution_count": 2,
   "id": "9e54de34-10c4-471c-854d-5641d7b54072",
   "metadata": {},
   "outputs": [
    {
     "name": "stderr",
     "output_type": "stream",
     "text": [
      "Hello, world!\n"
     ]
    }
   ],
   "source": [
    "console.error(\"Hello, world!\");"
   ]
  },
  {
   "cell_type": "code",
   "execution_count": null,
   "id": "aaf32ccd-be4f-44f9-a717-8b255c8c9de9",
   "metadata": {},
   "outputs": [],
   "source": []
  }
 ],
 "metadata": {
  "kernelspec": {
   "display_name": "Deno",
   "language": "typescript",
   "name": "deno"
  },
  "language_info": {
   "file_extension": ".ts",
   "mimetype": "text/x.typescript",
   "name": "typescript",
   "nb_converter": "script",
   "pygments_lexer": "typescript",
   "version": "5.4.3"
  }
 },
 "nbformat": 4,
 "nbformat_minor": 5
}
