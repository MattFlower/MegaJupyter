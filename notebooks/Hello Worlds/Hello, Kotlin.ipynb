{
  "cells": [
    {
      "cell_type": "code",
      "execution_count": null,
      "id": "initial_id",
      "metadata": {
        "collapsed": true
      },
      "outputs": [],
      "source": "println(\"Hello, Kotlin!\");"
    }
  ],
  "metadata": {
    "kernelspec": {
      "display_name": "Kotlin",
      "language": "kotlin",
      "name": "kotlin"
    },
    "language_info": {
      "codemirror_mode": "text/x-kotlin",
      "file_extension": ".kt",
      "mimetype": "text/x-kotlin",
      "name": "kotlin",
      "nbconvert_exporter": "",
      "pygments_lexer": "kotlin",
      "version": "1.9.23"
    }
  },
  "nbformat": 4,
  "nbformat_minor": 5
}
