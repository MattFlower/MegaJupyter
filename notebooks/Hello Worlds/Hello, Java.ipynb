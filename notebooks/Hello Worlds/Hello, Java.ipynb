{
  "cells": [
    {
      "cell_type": "code",
      "execution_count": 1,
      "id": "39d9e7fd-5631-4c76-a4d6-aedb3014e18a",
      "metadata": {},
      "outputs": [
        {
          "name": "stdout",
          "output_type": "stream",
          "text": [
            "Hello, world!\n"
          ]
        }
      ],
      "source": [
        "System.out.println(\"Hello, world!\");"
      ]
    },
    {
      "cell_type": "code",
      "execution_count": null,
      "id": "92f6e46c-8eb0-4946-9640-56f9737c3a2e",
      "metadata": {},
      "outputs": [],
      "source": []
    }
  ],
  "metadata": {
    "kernelspec": {
      "display_name": "Ganymede 2.1.2 (Java 21)",
      "language": "java",
      "name": "ganymede-2.1.2-java-21"
    },
    "language_info": {
      "file_extension": ".java",
      "mimetype": "text/x-java",
      "name": "java",
      "version": "17"
    }
  },
  "nbformat": 4,
  "nbformat_minor": 5
}
