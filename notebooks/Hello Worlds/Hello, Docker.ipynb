{
  "cells": [
    {
      "cell_type": "code",
      "execution_count": null,
      "id": "initial_id",
      "metadata": {
        "collapsed": true
      },
      "outputs": [],
      "source": [
        "FROM busybox:latest\n",
        "RUN echo \"Hello, Docker!\""
      ]
    }
  ],
  "metadata": {
    "kernelspec": {
      "display_name": "Dockerfile",
      "language": "text",
      "name": "docker"
    },
    "language_info": {
      "codemirror_mode": "Dockerfile",
      "file_extension": ".dockerfile",
      "mimetype": "text/x-dockerfile",
      "name": "docker"
    }
  },
  "nbformat": 4,
  "nbformat_minor": 5
}
